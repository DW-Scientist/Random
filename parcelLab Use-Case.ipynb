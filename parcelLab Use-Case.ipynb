{
 "cells": [
  {
   "cell_type": "markdown",
   "metadata": {},
   "source": [
    "# Hey Julian and Ben\n",
    "\n",
    "Thanks again for these two great meetings. I really liked talking to you guys and this Data Science position seems to be the perfect role for me and my working goals. \n",
    "\n",
    "As Julian mentioned, usually their is a short task to test the applicants skills. But because this is a whole new field of your company their is no such task available at the moment. So I decided to grab a dataset from Kaggle to show you a bit of my coding workflow.\n",
    "\n",
    "Within this Notebook I want to show you my ability to work solution oriented and off course some coding skills. \n",
    "\n",
    "Please find the dataset I use under the following link:\n",
    "https://www.kaggle.com/dustincm/chinese-delivery-drive\n",
    "Unfortunatly I couldn't find a similar dataset to the data you are generating at parcelLab - But for now this delivery-drive-dataset should work too.\n",
    "\n",
    "So I hope to see you guys soon and it would be an honour to me to support parcelLab to the next possible starting date.\n",
    "\n",
    "Best wishes and more thin...I really hope to get one of those parcelLap-Snapbacks;),\n",
    "\n",
    "Dennis\n",
    "\n"
   ]
  },
  {
   "cell_type": "markdown",
   "metadata": {},
   "source": [
    "## So lets's get started - Get our packages ready"
   ]
  },
  {
   "cell_type": "code",
   "execution_count": 210,
   "metadata": {},
   "outputs": [],
   "source": [
    "import numpy as np\n",
    "import pandas as pd\n",
    "import matplotlib.pyplot as plt"
   ]
  },
  {
   "cell_type": "markdown",
   "metadata": {},
   "source": [
    "# Import the data"
   ]
  },
  {
   "cell_type": "code",
   "execution_count": 211,
   "metadata": {},
   "outputs": [
    {
     "data": {
      "text/html": [
       "<div>\n",
       "<style scoped>\n",
       "    .dataframe tbody tr th:only-of-type {\n",
       "        vertical-align: middle;\n",
       "    }\n",
       "\n",
       "    .dataframe tbody tr th {\n",
       "        vertical-align: top;\n",
       "    }\n",
       "\n",
       "    .dataframe thead th {\n",
       "        text-align: right;\n",
       "    }\n",
       "</style>\n",
       "<table border=\"1\" class=\"dataframe\">\n",
       "  <thead>\n",
       "    <tr style=\"text-align: right;\">\n",
       "      <th></th>\n",
       "      <th>Street_Address</th>\n",
       "      <th>Date</th>\n",
       "      <th>Tip</th>\n",
       "      <th>Phone_Number</th>\n",
       "      <th>Street_Address2</th>\n",
       "      <th>Race</th>\n",
       "      <th>Gender</th>\n",
       "      <th>Type</th>\n",
       "      <th>Price</th>\n",
       "      <th>Payment_Type</th>\n",
       "      <th>Time_In</th>\n",
       "      <th>Time_Out</th>\n",
       "      <th>Age</th>\n",
       "      <th>Time_Elapsed</th>\n",
       "      <th>Miles</th>\n",
       "    </tr>\n",
       "  </thead>\n",
       "  <tbody>\n",
       "    <tr>\n",
       "      <th>0</th>\n",
       "      <td>23 Kracke</td>\n",
       "      <td>07/05/16</td>\n",
       "      <td>3.00</td>\n",
       "      <td>8.438056e+09</td>\n",
       "      <td>B</td>\n",
       "      <td>W</td>\n",
       "      <td>F</td>\n",
       "      <td>R</td>\n",
       "      <td>19.83</td>\n",
       "      <td>R</td>\n",
       "      <td>11:58</td>\n",
       "      <td>NaN</td>\n",
       "      <td>Y</td>\n",
       "      <td>NaN</td>\n",
       "      <td>2.5</td>\n",
       "    </tr>\n",
       "    <tr>\n",
       "      <th>1</th>\n",
       "      <td>145 Bee</td>\n",
       "      <td>06/29/16</td>\n",
       "      <td>4.78</td>\n",
       "      <td>9.149805e+09</td>\n",
       "      <td>NaN</td>\n",
       "      <td>W</td>\n",
       "      <td>F</td>\n",
       "      <td>NaN</td>\n",
       "      <td>NaN</td>\n",
       "      <td>NaN</td>\n",
       "      <td>15:06</td>\n",
       "      <td>NaN</td>\n",
       "      <td>Y</td>\n",
       "      <td>NaN</td>\n",
       "      <td>1.6</td>\n",
       "    </tr>\n",
       "    <tr>\n",
       "      <th>2</th>\n",
       "      <td>Ashley River</td>\n",
       "      <td>07/07/16</td>\n",
       "      <td>NaN</td>\n",
       "      <td>8.435063e+09</td>\n",
       "      <td>NaN</td>\n",
       "      <td>NaN</td>\n",
       "      <td>NaN</td>\n",
       "      <td>NaN</td>\n",
       "      <td>12.93</td>\n",
       "      <td>C</td>\n",
       "      <td>21:34</td>\n",
       "      <td>NaN</td>\n",
       "      <td>NaN</td>\n",
       "      <td>NaN</td>\n",
       "      <td>2.0</td>\n",
       "    </tr>\n",
       "    <tr>\n",
       "      <th>3</th>\n",
       "      <td>6 Grove Street</td>\n",
       "      <td>6/1/2016</td>\n",
       "      <td>3.67</td>\n",
       "      <td>NaN</td>\n",
       "      <td>NaN</td>\n",
       "      <td>B</td>\n",
       "      <td>M</td>\n",
       "      <td>R</td>\n",
       "      <td>NaN</td>\n",
       "      <td>NaN</td>\n",
       "      <td>16:30</td>\n",
       "      <td>NaN</td>\n",
       "      <td>NaN</td>\n",
       "      <td>NaN</td>\n",
       "      <td>1.7</td>\n",
       "    </tr>\n",
       "    <tr>\n",
       "      <th>4</th>\n",
       "      <td>6 Grove Street</td>\n",
       "      <td>06/28/16</td>\n",
       "      <td>3.61</td>\n",
       "      <td>8.437938e+09</td>\n",
       "      <td>NaN</td>\n",
       "      <td>B</td>\n",
       "      <td>F</td>\n",
       "      <td>R</td>\n",
       "      <td>NaN</td>\n",
       "      <td>R</td>\n",
       "      <td>14:20</td>\n",
       "      <td>NaN</td>\n",
       "      <td>M</td>\n",
       "      <td>NaN</td>\n",
       "      <td>1.7</td>\n",
       "    </tr>\n",
       "  </tbody>\n",
       "</table>\n",
       "</div>"
      ],
      "text/plain": [
       "   Street_Address      Date   Tip  Phone_Number Street_Address2 Race Gender  \\\n",
       "0       23 Kracke  07/05/16  3.00  8.438056e+09               B    W      F   \n",
       "1         145 Bee  06/29/16  4.78  9.149805e+09             NaN    W      F   \n",
       "2    Ashley River  07/07/16   NaN  8.435063e+09             NaN  NaN    NaN   \n",
       "3  6 Grove Street  6/1/2016  3.67           NaN             NaN    B      M   \n",
       "4  6 Grove Street  06/28/16  3.61  8.437938e+09             NaN    B      F   \n",
       "\n",
       "  Type  Price Payment_Type Time_In Time_Out  Age  Time_Elapsed  Miles  \n",
       "0    R  19.83            R   11:58      NaN    Y           NaN    2.5  \n",
       "1  NaN    NaN          NaN   15:06      NaN    Y           NaN    1.6  \n",
       "2  NaN  12.93            C   21:34      NaN  NaN           NaN    2.0  \n",
       "3    R    NaN          NaN   16:30      NaN  NaN           NaN    1.7  \n",
       "4    R    NaN            R   14:20      NaN    M           NaN    1.7  "
      ]
     },
     "execution_count": 211,
     "metadata": {},
     "output_type": "execute_result"
    }
   ],
   "source": [
    "df = pd.read_csv(\"data.csv\")\n",
    "df.head()"
   ]
  },
  {
   "cell_type": "code",
   "execution_count": 212,
   "metadata": {},
   "outputs": [
    {
     "name": "stdout",
     "output_type": "stream",
     "text": [
      "This dataset hast 15 columns\n"
     ]
    }
   ],
   "source": [
    "# How many columns do we have\n",
    "def count_columns(df):\n",
    "    col_count = len(df.columns)\n",
    "    print(f\"This dataset hast {col_count} columns\")\n",
    "    \n",
    "count_columns(df)"
   ]
  },
  {
   "cell_type": "code",
   "execution_count": 213,
   "metadata": {},
   "outputs": [
    {
     "name": "stdout",
     "output_type": "stream",
     "text": [
      "The column Street_Address has 0 missing values!\n",
      "The column Date has 0 missing values!\n",
      "The column Tip has 101 missing values!\n",
      "The column Phone_Number has 206 missing values!\n",
      "The column Street_Address2 has 562 missing values!\n",
      "The column Race has 109 missing values!\n",
      "The column Gender has 109 missing values!\n",
      "The column Type has 188 missing values!\n",
      "The column Price has 204 missing values!\n",
      "The column Payment_Type has 148 missing values!\n",
      "The column Time_In has 57 missing values!\n",
      "The column Time_Out has 310 missing values!\n",
      "The column Age has 291 missing values!\n",
      "The column Time_Elapsed has 315 missing values!\n",
      "The column Miles has 0 missing values!\n"
     ]
    }
   ],
   "source": [
    "# Looks like there are a couple of missing datapoints - lets have a look\n",
    "\n",
    "def count_nan(df):\n",
    "    # create a column_list to iterate over it\n",
    "    col_list = list(df.columns)\n",
    "    \n",
    "    # also create an empty dictionary for plotting the missing values afterwards \n",
    "    missing_dict = {}\n",
    "    \n",
    "    # iterate over the list and find the number of missing values\n",
    "    for col in col_list:\n",
    "        missing = df[col].isna().sum()\n",
    "        missing_dict.update({col:missing})\n",
    "    return missing_dict\n",
    "    \n",
    "# Now...print the value together with the column name\n",
    "print_missing = count_nan(df)\n",
    "for k,v in print_missing.items():\n",
    "    print(f\"The column {k} has {v} missing values!\")"
   ]
  },
  {
   "cell_type": "markdown",
   "metadata": {},
   "source": [
    "## Let's visualize the amount of missing data by using our created dictionary"
   ]
  },
  {
   "cell_type": "code",
   "execution_count": 214,
   "metadata": {},
   "outputs": [
    {
     "data": {
      "image/png": "[encoded data removed]",
      "text/plain": [
       "<Figure size 1080x576 with 1 Axes>"
      ]
     },
     "metadata": {
      "needs_background": "light"
     },
     "output_type": "display_data"
    }
   ],
   "source": [
    "missing_df = pd.DataFrame(print_missing, index=[\"Amount of Missing Data\"])\n",
    "missing_df.T.plot(kind=\"bar\", figsize=(15,8));"
   ]
  },
  {
   "cell_type": "markdown",
   "metadata": {},
   "source": [
    "## Let's try to understand these results\n",
    "\n",
    "First of all we can realize that there are 562 missing values within the feature \"Street_Address2\" - The whole dataset hast 772 rows so that are about 73% missing values. This is because most of the people just insert text into to feature \"Street_Address\" while they have no other further inoformation. Because of this high missing amount let's just remove this feature for now while the impact can't bee that high.\n",
    "\n",
    "Let's also remove the column \"Race\" because of ethical reasons.\n",
    "\n",
    "Another interesting fact can be realized within the features \"Time_Out\" and \"Time_Elapsed\". Of course if there is no time out stamped there won't be a time elapsed either. Thats why the amount of missing data of those features is nearly the same. The big question at this stage would be the following:\n",
    "**If the feature \"Time_Out\" is missing does this mean that the food has not been delivered?**\n",
    "This would be a question which we should answer with our customer.\n",
    "\n",
    "Data exploration -> Creating Questions -> Answer Question -> Continue Data Science Workflow\n"
   ]
  },
  {
   "cell_type": "code",
   "execution_count": 215,
   "metadata": {},
   "outputs": [],
   "source": [
    "# Lets delete the features \"Race\" and \"Street_Address2\"\n",
    "\n",
    "df.drop([\"Race\", \"Street_Address2\"], axis=1, inplace=True)"
   ]
  },
  {
   "cell_type": "code",
   "execution_count": 216,
   "metadata": {},
   "outputs": [
    {
     "data": {
      "text/plain": [
       "Index(['Street_Address', 'Date', 'Tip', 'Phone_Number', 'Gender', 'Type',\n",
       "       'Price', 'Payment_Type', 'Time_In', 'Time_Out', 'Age', 'Time_Elapsed',\n",
       "       'Miles'],\n",
       "      dtype='object')"
      ]
     },
     "execution_count": 216,
     "metadata": {},
     "output_type": "execute_result"
    }
   ],
   "source": [
    "df.columns"
   ]
  },
  {
   "cell_type": "markdown",
   "metadata": {},
   "source": [
    "# Keep it simple for now\n",
    "\n",
    "Because this is just a short analysis - let's keep it simple and replace all the missing values with the value 0"
   ]
  },
  {
   "cell_type": "code",
   "execution_count": 217,
   "metadata": {},
   "outputs": [],
   "source": [
    "df.fillna(0, inplace=True)"
   ]
  },
  {
   "cell_type": "code",
   "execution_count": 218,
   "metadata": {},
   "outputs": [
    {
     "data": {
      "text/plain": [
       "{'Street_Address': 0,\n",
       " 'Date': 0,\n",
       " 'Tip': 0,\n",
       " 'Phone_Number': 0,\n",
       " 'Gender': 0,\n",
       " 'Type': 0,\n",
       " 'Price': 0,\n",
       " 'Payment_Type': 0,\n",
       " 'Time_In': 0,\n",
       " 'Time_Out': 0,\n",
       " 'Age': 0,\n",
       " 'Time_Elapsed': 0,\n",
       " 'Miles': 0}"
      ]
     },
     "execution_count": 218,
     "metadata": {},
     "output_type": "execute_result"
    }
   ],
   "source": [
    "# Let's check if we did it right by using our creted function count_nan\n",
    "\n",
    "count_nan(df)"
   ]
  },
  {
   "cell_type": "markdown",
   "metadata": {},
   "source": [
    "# Feature Engineering"
   ]
  },
  {
   "cell_type": "markdown",
   "metadata": {},
   "source": [
    "# Let's have a look at the data types\n",
    "\n",
    "As we know - machine learning models can only work with numeric data. So let's have a look what kind of data types we have in our dataset"
   ]
  },
  {
   "cell_type": "code",
   "execution_count": 219,
   "metadata": {},
   "outputs": [
    {
     "data": {
      "text/plain": [
       "Street_Address     object\n",
       "Date               object\n",
       "Tip               float64\n",
       "Phone_Number      float64\n",
       "Gender             object\n",
       "Type               object\n",
       "Price             float64\n",
       "Payment_Type       object\n",
       "Time_In            object\n",
       "Time_Out           object\n",
       "Age                object\n",
       "Time_Elapsed      float64\n",
       "Miles             float64\n",
       "dtype: object"
      ]
     },
     "execution_count": 219,
     "metadata": {},
     "output_type": "execute_result"
    }
   ],
   "source": [
    "df.dtypes"
   ]
  },
  {
   "cell_type": "markdown",
   "metadata": {},
   "source": [
    "# As we can see there are a lot of objects in our dataset - let's transform them into integers"
   ]
  },
  {
   "cell_type": "markdown",
   "metadata": {},
   "source": [
    "## Let's start with the Date\n",
    "\n",
    "Within the Date we create different pandas datetime features.\n",
    "For expample the date 07/05/16 will divided into a weekday, month and year column\n",
    "For this we are using the pandas datetime library"
   ]
  },
  {
   "cell_type": "code",
   "execution_count": 220,
   "metadata": {},
   "outputs": [
    {
     "data": {
      "text/plain": [
       "0   2016-07-05\n",
       "1   2016-06-29\n",
       "2   2016-07-07\n",
       "3   2016-06-01\n",
       "4   2016-06-28\n",
       "Name: Date, dtype: datetime64[ns]"
      ]
     },
     "execution_count": 220,
     "metadata": {},
     "output_type": "execute_result"
    }
   ],
   "source": [
    "df[\"Date\"] = pd.to_datetime(df[\"Date\"])\n",
    "df.Date.head()"
   ]
  },
  {
   "cell_type": "code",
   "execution_count": 221,
   "metadata": {},
   "outputs": [],
   "source": [
    "df[\"Year\"] = df.Date.dt.year\n",
    "df[\"Month\"] = df.Date.dt.month\n",
    "df[\"Day\"] = df.Date.dt.day\n",
    "df[\"DayOfWeek\"] = df.Date.dt.dayofweek\n",
    "df[\"DayOfYear\"] = df.Date.dt.dayofyear"
   ]
  },
  {
   "cell_type": "markdown",
   "metadata": {},
   "source": [
    "## Now we have our new columns for the date lets remove the Column \"Date\""
   ]
  },
  {
   "cell_type": "code",
   "execution_count": 222,
   "metadata": {},
   "outputs": [],
   "source": [
    "df.drop([\"Date\"], axis=1, inplace=True)"
   ]
  },
  {
   "cell_type": "code",
   "execution_count": 223,
   "metadata": {},
   "outputs": [],
   "source": [
    "df[\"Time_In\"] = df[\"Time_In\"].replace(to_replace=\"16::07\", value=\"16:07\")"
   ]
  },
  {
   "cell_type": "code",
   "execution_count": 224,
   "metadata": {},
   "outputs": [],
   "source": [
    "df.Time_In = pd.to_datetime(df.Time_In)"
   ]
  },
  {
   "cell_type": "code",
   "execution_count": 225,
   "metadata": {},
   "outputs": [],
   "source": [
    "minute_list = []\n",
    "hour_list = []\n",
    "\n",
    "for i in df.Time_In:\n",
    "    minute_list.append(i.minute)\n",
    "    hour_list.append(i.hour)\n",
    "    \n",
    "df[\"Minutes\"] = minute_list\n",
    "df[\"Hours\"] = hour_list\n",
    "    \n",
    "    "
   ]
  },
  {
   "cell_type": "code",
   "execution_count": 231,
   "metadata": {},
   "outputs": [
    {
     "data": {
      "text/html": [
       "<div>\n",
       "<style scoped>\n",
       "    .dataframe tbody tr th:only-of-type {\n",
       "        vertical-align: middle;\n",
       "    }\n",
       "\n",
       "    .dataframe tbody tr th {\n",
       "        vertical-align: top;\n",
       "    }\n",
       "\n",
       "    .dataframe thead th {\n",
       "        text-align: right;\n",
       "    }\n",
       "</style>\n",
       "<table border=\"1\" class=\"dataframe\">\n",
       "  <thead>\n",
       "    <tr style=\"text-align: right;\">\n",
       "      <th></th>\n",
       "      <th>Minutes</th>\n",
       "      <th>Hours</th>\n",
       "    </tr>\n",
       "  </thead>\n",
       "  <tbody>\n",
       "    <tr>\n",
       "      <th>0</th>\n",
       "      <td>58</td>\n",
       "      <td>11</td>\n",
       "    </tr>\n",
       "    <tr>\n",
       "      <th>1</th>\n",
       "      <td>6</td>\n",
       "      <td>15</td>\n",
       "    </tr>\n",
       "    <tr>\n",
       "      <th>2</th>\n",
       "      <td>34</td>\n",
       "      <td>21</td>\n",
       "    </tr>\n",
       "    <tr>\n",
       "      <th>3</th>\n",
       "      <td>30</td>\n",
       "      <td>16</td>\n",
       "    </tr>\n",
       "    <tr>\n",
       "      <th>4</th>\n",
       "      <td>20</td>\n",
       "      <td>14</td>\n",
       "    </tr>\n",
       "  </tbody>\n",
       "</table>\n",
       "</div>"
      ],
      "text/plain": [
       "   Minutes  Hours\n",
       "0       58     11\n",
       "1        6     15\n",
       "2       34     21\n",
       "3       30     16\n",
       "4       20     14"
      ]
     },
     "execution_count": 231,
     "metadata": {},
     "output_type": "execute_result"
    }
   ],
   "source": [
    "df[[\"Minutes\", \"Hours\"]].head()"
   ]
  },
  {
   "cell_type": "markdown",
   "metadata": {},
   "source": [
    "## So now we have the timestamps and the dates in integers\n",
    "\n",
    "Lets do the same thing for Time_Out so we can delete the columns afterwards\n",
    "\n",
    "Lets create a helperfunction for this"
   ]
  },
  {
   "cell_type": "code",
   "execution_count": 279,
   "metadata": {},
   "outputs": [],
   "source": [
    "def time_creator(column):\n",
    "    column = pd.to_datetime(column)\n",
    "    \n",
    "    min_list = []\n",
    "    hr_list = []\n",
    "    \n",
    "    for time in column:\n",
    "        min_list.append(time.minute)\n",
    "        hr_list.append(time.hour)\n",
    "        \n",
    "    #new_min_column = min_list\n",
    "    #new_hour_column = hr_list\n",
    "    return min_list, hr_list"
   ]
  },
  {
   "cell_type": "code",
   "execution_count": 249,
   "metadata": {},
   "outputs": [],
   "source": [
    "df[\"Time_Out\"] = df[\"Time_Out\"].replace(to_replace=\"24:49\", value=\"00:00\")\n",
    "df[\"Time_Out\"] = df[\"Time_Out\"].replace(to_replace=\"56:34\", value=\"00:00\")\n",
    "df[\"Time_Out\"] = df[\"Time_Out\"].replace(to_replace=\"120:22\", value=\"00:00\")\n",
    "df[\"Time_Out\"] = df[\"Time_Out\"].replace(to_replace=\"134:41\", value=\"00:00\")"
   ]
  },
  {
   "cell_type": "code",
   "execution_count": 280,
   "metadata": {},
   "outputs": [],
   "source": [
    "df[\"Min_Out\"] = time_creator(df.Time_Out)[0]\n",
    "df[\"Hour_Out\"] = time_creator(df.Time_Out)[1]"
   ]
  },
  {
   "cell_type": "code",
   "execution_count": 289,
   "metadata": {},
   "outputs": [],
   "source": [
    "## Lets delete the columns [\"Time_In\", \"Time_Out\"]\n",
    "\n",
    "df.drop([\"Time_In\", \"Time_Out\"], axis=1, inplace=True)"
   ]
  },
  {
   "cell_type": "code",
   "execution_count": 293,
   "metadata": {},
   "outputs": [
    {
     "data": {
      "text/plain": [
       "Street_Address     object\n",
       "Tip               float64\n",
       "Phone_Number      float64\n",
       "Gender             object\n",
       "Type               object\n",
       "Price             float64\n",
       "Payment_Type       object\n",
       "Age                object\n",
       "Time_Elapsed      float64\n",
       "Miles             float64\n",
       "Year                int64\n",
       "Month               int64\n",
       "Day                 int64\n",
       "DayOfWeek           int64\n",
       "DayOfYear           int64\n",
       "Minutes             int64\n",
       "Hours               int64\n",
       "Min_Out             int64\n",
       "Hour_Out            int64\n",
       "Min_El              int64\n",
       "Hour_El             int64\n",
       "dtype: object"
      ]
     },
     "execution_count": 293,
     "metadata": {},
     "output_type": "execute_result"
    }
   ],
   "source": [
    "## Lets have a look at our features and dtypes again\n",
    "df.dtypes"
   ]
  },
  {
   "cell_type": "markdown",
   "metadata": {},
   "source": [
    "## There are a few objects left - lets replace them with dictionaries\n"
   ]
  },
  {
   "cell_type": "code",
   "execution_count": 302,
   "metadata": {},
   "outputs": [],
   "source": [
    "cleanup_nums = {\"Gender\": {\"F\": 1, \"M\":2},\n",
    "               \"Type\": {\"R\": 1, \"W\": 2, \"H\":3, \"P\": 4, \"O\":5},\n",
    "               \"Payment_Type\": {\"C\":1, \"R\":2},\n",
    "               \"Age\": {\"Y\":1, \"M\":2, \"O\":3}\n",
    "               }"
   ]
  },
  {
   "cell_type": "code",
   "execution_count": 303,
   "metadata": {},
   "outputs": [],
   "source": [
    "df.replace(cleanup_nums, inplace=True)"
   ]
  },
  {
   "cell_type": "code",
   "execution_count": 307,
   "metadata": {},
   "outputs": [
    {
     "data": {
      "text/plain": [
       "Street_Address     object\n",
       "Tip               float64\n",
       "Phone_Number      float64\n",
       "Gender              int64\n",
       "Type                int64\n",
       "Price             float64\n",
       "Payment_Type        int64\n",
       "Age                 int64\n",
       "Time_Elapsed      float64\n",
       "Miles             float64\n",
       "Year                int64\n",
       "Month               int64\n",
       "Day                 int64\n",
       "DayOfWeek           int64\n",
       "DayOfYear           int64\n",
       "Minutes             int64\n",
       "Hours               int64\n",
       "Min_Out             int64\n",
       "Hour_Out            int64\n",
       "Min_El              int64\n",
       "Hour_El             int64\n",
       "dtype: object"
      ]
     },
     "execution_count": 307,
     "metadata": {},
     "output_type": "execute_result"
    }
   ],
   "source": [
    "df.dtypes"
   ]
  },
  {
   "cell_type": "markdown",
   "metadata": {},
   "source": [
    "## Yes there is only one left - The Street adress\n",
    "\n",
    "Let`s use scikit learn library to encode this address feature"
   ]
  },
  {
   "cell_type": "code",
   "execution_count": 311,
   "metadata": {},
   "outputs": [],
   "source": [
    "from sklearn.preprocessing import LabelEncoder\n",
    "\n",
    "lbe = LabelEncoder()\n",
    "df[\"Adress\"] = lbe.fit_transform(df[\"Street_Address\"])"
   ]
  },
  {
   "cell_type": "markdown",
   "metadata": {},
   "source": [
    "# Machine Learning Modeling"
   ]
  },
  {
   "cell_type": "markdown",
   "metadata": {},
   "source": [
    "## So that works - AWESOME - So now we are ready to model\n",
    "\n",
    "Lets have a last look on our dataset. It should have the following attributes:\n",
    "    * no missing values\n",
    "    * no objects\n",
    "    * only int and float values"
   ]
  },
  {
   "cell_type": "code",
   "execution_count": 314,
   "metadata": {},
   "outputs": [],
   "source": [
    "df.drop([\"Street_Address\"], axis = 1, inplace=True)"
   ]
  },
  {
   "cell_type": "code",
   "execution_count": 316,
   "metadata": {},
   "outputs": [
    {
     "data": {
      "text/html": [
       "<div>\n",
       "<style scoped>\n",
       "    .dataframe tbody tr th:only-of-type {\n",
       "        vertical-align: middle;\n",
       "    }\n",
       "\n",
       "    .dataframe tbody tr th {\n",
       "        vertical-align: top;\n",
       "    }\n",
       "\n",
       "    .dataframe thead th {\n",
       "        text-align: right;\n",
       "    }\n",
       "</style>\n",
       "<table border=\"1\" class=\"dataframe\">\n",
       "  <thead>\n",
       "    <tr style=\"text-align: right;\">\n",
       "      <th></th>\n",
       "      <th>Tip</th>\n",
       "      <th>Phone_Number</th>\n",
       "      <th>Gender</th>\n",
       "      <th>Type</th>\n",
       "      <th>Price</th>\n",
       "      <th>Payment_Type</th>\n",
       "      <th>Age</th>\n",
       "      <th>Time_Elapsed</th>\n",
       "      <th>Miles</th>\n",
       "      <th>Year</th>\n",
       "      <th>...</th>\n",
       "      <th>Day</th>\n",
       "      <th>DayOfWeek</th>\n",
       "      <th>DayOfYear</th>\n",
       "      <th>Minutes</th>\n",
       "      <th>Hours</th>\n",
       "      <th>Min_Out</th>\n",
       "      <th>Hour_Out</th>\n",
       "      <th>Min_El</th>\n",
       "      <th>Hour_El</th>\n",
       "      <th>Adress</th>\n",
       "    </tr>\n",
       "  </thead>\n",
       "  <tbody>\n",
       "    <tr>\n",
       "      <th>0</th>\n",
       "      <td>3.00</td>\n",
       "      <td>8.438056e+09</td>\n",
       "      <td>1</td>\n",
       "      <td>1</td>\n",
       "      <td>19.83</td>\n",
       "      <td>2</td>\n",
       "      <td>1</td>\n",
       "      <td>0.0</td>\n",
       "      <td>2.5</td>\n",
       "      <td>2016</td>\n",
       "      <td>...</td>\n",
       "      <td>5</td>\n",
       "      <td>1</td>\n",
       "      <td>187</td>\n",
       "      <td>58</td>\n",
       "      <td>11</td>\n",
       "      <td>0</td>\n",
       "      <td>0</td>\n",
       "      <td>0</td>\n",
       "      <td>0</td>\n",
       "      <td>222</td>\n",
       "    </tr>\n",
       "    <tr>\n",
       "      <th>1</th>\n",
       "      <td>4.78</td>\n",
       "      <td>9.149805e+09</td>\n",
       "      <td>1</td>\n",
       "      <td>0</td>\n",
       "      <td>0.00</td>\n",
       "      <td>0</td>\n",
       "      <td>1</td>\n",
       "      <td>0.0</td>\n",
       "      <td>1.6</td>\n",
       "      <td>2016</td>\n",
       "      <td>...</td>\n",
       "      <td>29</td>\n",
       "      <td>2</td>\n",
       "      <td>181</td>\n",
       "      <td>6</td>\n",
       "      <td>15</td>\n",
       "      <td>0</td>\n",
       "      <td>0</td>\n",
       "      <td>0</td>\n",
       "      <td>0</td>\n",
       "      <td>97</td>\n",
       "    </tr>\n",
       "    <tr>\n",
       "      <th>2</th>\n",
       "      <td>0.00</td>\n",
       "      <td>8.435063e+09</td>\n",
       "      <td>0</td>\n",
       "      <td>0</td>\n",
       "      <td>12.93</td>\n",
       "      <td>1</td>\n",
       "      <td>0</td>\n",
       "      <td>0.0</td>\n",
       "      <td>2.0</td>\n",
       "      <td>2016</td>\n",
       "      <td>...</td>\n",
       "      <td>7</td>\n",
       "      <td>3</td>\n",
       "      <td>189</td>\n",
       "      <td>34</td>\n",
       "      <td>21</td>\n",
       "      <td>0</td>\n",
       "      <td>0</td>\n",
       "      <td>0</td>\n",
       "      <td>0</td>\n",
       "      <td>491</td>\n",
       "    </tr>\n",
       "    <tr>\n",
       "      <th>3</th>\n",
       "      <td>3.67</td>\n",
       "      <td>0.000000e+00</td>\n",
       "      <td>2</td>\n",
       "      <td>1</td>\n",
       "      <td>0.00</td>\n",
       "      <td>0</td>\n",
       "      <td>0</td>\n",
       "      <td>0.0</td>\n",
       "      <td>1.7</td>\n",
       "      <td>2016</td>\n",
       "      <td>...</td>\n",
       "      <td>1</td>\n",
       "      <td>2</td>\n",
       "      <td>153</td>\n",
       "      <td>30</td>\n",
       "      <td>16</td>\n",
       "      <td>0</td>\n",
       "      <td>0</td>\n",
       "      <td>0</td>\n",
       "      <td>0</td>\n",
       "      <td>380</td>\n",
       "    </tr>\n",
       "    <tr>\n",
       "      <th>4</th>\n",
       "      <td>3.61</td>\n",
       "      <td>8.437938e+09</td>\n",
       "      <td>1</td>\n",
       "      <td>1</td>\n",
       "      <td>0.00</td>\n",
       "      <td>2</td>\n",
       "      <td>2</td>\n",
       "      <td>0.0</td>\n",
       "      <td>1.7</td>\n",
       "      <td>2016</td>\n",
       "      <td>...</td>\n",
       "      <td>28</td>\n",
       "      <td>1</td>\n",
       "      <td>180</td>\n",
       "      <td>20</td>\n",
       "      <td>14</td>\n",
       "      <td>0</td>\n",
       "      <td>0</td>\n",
       "      <td>0</td>\n",
       "      <td>0</td>\n",
       "      <td>380</td>\n",
       "    </tr>\n",
       "  </tbody>\n",
       "</table>\n",
       "<p>5 rows × 21 columns</p>\n",
       "</div>"
      ],
      "text/plain": [
       "    Tip  Phone_Number  Gender  Type  Price  Payment_Type  Age  Time_Elapsed  \\\n",
       "0  3.00  8.438056e+09       1     1  19.83             2    1           0.0   \n",
       "1  4.78  9.149805e+09       1     0   0.00             0    1           0.0   \n",
       "2  0.00  8.435063e+09       0     0  12.93             1    0           0.0   \n",
       "3  3.67  0.000000e+00       2     1   0.00             0    0           0.0   \n",
       "4  3.61  8.437938e+09       1     1   0.00             2    2           0.0   \n",
       "\n",
       "   Miles  Year  ...  Day  DayOfWeek  DayOfYear  Minutes  Hours  Min_Out  \\\n",
       "0    2.5  2016  ...    5          1        187       58     11        0   \n",
       "1    1.6  2016  ...   29          2        181        6     15        0   \n",
       "2    2.0  2016  ...    7          3        189       34     21        0   \n",
       "3    1.7  2016  ...    1          2        153       30     16        0   \n",
       "4    1.7  2016  ...   28          1        180       20     14        0   \n",
       "\n",
       "   Hour_Out  Min_El  Hour_El  Adress  \n",
       "0         0       0        0     222  \n",
       "1         0       0        0      97  \n",
       "2         0       0        0     491  \n",
       "3         0       0        0     380  \n",
       "4         0       0        0     380  \n",
       "\n",
       "[5 rows x 21 columns]"
      ]
     },
     "execution_count": 316,
     "metadata": {},
     "output_type": "execute_result"
    }
   ],
   "source": [
    "df.head()"
   ]
  },
  {
   "cell_type": "code",
   "execution_count": 317,
   "metadata": {},
   "outputs": [
    {
     "data": {
      "text/plain": [
       "Tip             float64\n",
       "Phone_Number    float64\n",
       "Gender            int64\n",
       "Type              int64\n",
       "Price           float64\n",
       "Payment_Type      int64\n",
       "Age               int64\n",
       "Time_Elapsed    float64\n",
       "Miles           float64\n",
       "Year              int64\n",
       "Month             int64\n",
       "Day               int64\n",
       "DayOfWeek         int64\n",
       "DayOfYear         int64\n",
       "Minutes           int64\n",
       "Hours             int64\n",
       "Min_Out           int64\n",
       "Hour_Out          int64\n",
       "Min_El            int64\n",
       "Hour_El           int64\n",
       "Adress            int32\n",
       "dtype: object"
      ]
     },
     "execution_count": 317,
     "metadata": {},
     "output_type": "execute_result"
    }
   ],
   "source": [
    "df.dtypes"
   ]
  },
  {
   "cell_type": "markdown",
   "metadata": {},
   "source": [
    "# Let's create a Scenario\n",
    "\n",
    "Our delivery people are often complaining about the Tip they are getting for each delivery.\n",
    "\n",
    "So let's try to build a model that can predict the tip our driver will get.\n",
    "\n",
    "**Please Notice: Because of the small amount of time I create a simple model just to show the workflow and the ability of python wihtin this project. Please Keep in mind that this is just for a first presentation.**\n"
   ]
  },
  {
   "cell_type": "markdown",
   "metadata": {},
   "source": [
    "We will use the RandomForestRegressor from scikit learn. Our target (label) will be the column Tip.\n",
    "Lets import the libraries"
   ]
  },
  {
   "cell_type": "code",
   "execution_count": 319,
   "metadata": {},
   "outputs": [],
   "source": [
    "from sklearn.ensemble import RandomForestRegressor\n",
    "from sklearn.model_selection import train_test_split"
   ]
  },
  {
   "cell_type": "code",
   "execution_count": 333,
   "metadata": {},
   "outputs": [],
   "source": [
    "# split the data (Train and Test) and train the model\n",
    "\n",
    "X = df.drop([\"Tip\"], axis=1)\n",
    "y = df[\"Tip\"]\n",
    "\n",
    "X_train, X_test, y_train, y_test = train_test_split(X,y,\n",
    "                                                   test_size=0.2,\n",
    "                                                   random_state=40)"
   ]
  },
  {
   "cell_type": "code",
   "execution_count": 352,
   "metadata": {},
   "outputs": [
    {
     "data": {
      "text/plain": [
       "RandomForestRegressor(bootstrap=True, criterion='mse', max_depth=10,\n",
       "                      max_features='auto', max_leaf_nodes=5,\n",
       "                      min_impurity_decrease=0.0, min_impurity_split=None,\n",
       "                      min_samples_leaf=1, min_samples_split=2,\n",
       "                      min_weight_fraction_leaf=0.0, n_estimators=200,\n",
       "                      n_jobs=None, oob_score=False, random_state=None,\n",
       "                      verbose=0, warm_start=False)"
      ]
     },
     "execution_count": 352,
     "metadata": {},
     "output_type": "execute_result"
    }
   ],
   "source": [
    "regr = RandomForestRegressor(n_estimators=200, max_depth=10, max_leaf_nodes=5)\n",
    "\n",
    "regr.fit(X_train,y_train)"
   ]
  },
  {
   "cell_type": "code",
   "execution_count": 353,
   "metadata": {},
   "outputs": [],
   "source": [
    "# Lets predict our Tips for the Test_set\n",
    "predictions = regr.predict(X_test)"
   ]
  },
  {
   "cell_type": "code",
   "execution_count": 354,
   "metadata": {},
   "outputs": [
    {
     "data": {
      "text/html": [
       "<div>\n",
       "<style scoped>\n",
       "    .dataframe tbody tr th:only-of-type {\n",
       "        vertical-align: middle;\n",
       "    }\n",
       "\n",
       "    .dataframe tbody tr th {\n",
       "        vertical-align: top;\n",
       "    }\n",
       "\n",
       "    .dataframe thead th {\n",
       "        text-align: right;\n",
       "    }\n",
       "</style>\n",
       "<table border=\"1\" class=\"dataframe\">\n",
       "  <thead>\n",
       "    <tr style=\"text-align: right;\">\n",
       "      <th></th>\n",
       "      <th>Truth</th>\n",
       "      <th>Predictions</th>\n",
       "    </tr>\n",
       "  </thead>\n",
       "  <tbody>\n",
       "    <tr>\n",
       "      <th>454</th>\n",
       "      <td>2.50</td>\n",
       "      <td>2.682497</td>\n",
       "    </tr>\n",
       "    <tr>\n",
       "      <th>709</th>\n",
       "      <td>0.00</td>\n",
       "      <td>2.650377</td>\n",
       "    </tr>\n",
       "    <tr>\n",
       "      <th>395</th>\n",
       "      <td>2.23</td>\n",
       "      <td>2.690202</td>\n",
       "    </tr>\n",
       "    <tr>\n",
       "      <th>323</th>\n",
       "      <td>2.83</td>\n",
       "      <td>0.515105</td>\n",
       "    </tr>\n",
       "    <tr>\n",
       "      <th>563</th>\n",
       "      <td>4.00</td>\n",
       "      <td>2.650892</td>\n",
       "    </tr>\n",
       "  </tbody>\n",
       "</table>\n",
       "</div>"
      ],
      "text/plain": [
       "     Truth  Predictions\n",
       "454   2.50     2.682497\n",
       "709   0.00     2.650377\n",
       "395   2.23     2.690202\n",
       "323   2.83     0.515105\n",
       "563   4.00     2.650892"
      ]
     },
     "execution_count": 354,
     "metadata": {},
     "output_type": "execute_result"
    }
   ],
   "source": [
    "pred_dict = {\"Truth\": y_test,\n",
    "            \"Predictions\": predictions}\n",
    "\n",
    "pred_frame = pd.DataFrame(data = pred_dict)\n",
    "pred_frame.head()"
   ]
  },
  {
   "cell_type": "markdown",
   "metadata": {},
   "source": [
    "## So lets finally compare our results within a plot"
   ]
  },
  {
   "cell_type": "code",
   "execution_count": 355,
   "metadata": {},
   "outputs": [],
   "source": [
    "counter = 0\n",
    "index_list = []\n",
    "for i in pred_frame[\"Truth\"]:\n",
    "    counter = counter + 1\n",
    "    index_list.append(counter)\n",
    "    \n",
    "pred_frame[\"Index\"] = index_list\n",
    "pred_frame.set_index([\"Index\"], inplace=True)"
   ]
  },
  {
   "cell_type": "code",
   "execution_count": 356,
   "metadata": {},
   "outputs": [
    {
     "data": {
      "text/plain": [
       "<matplotlib.axes._subplots.AxesSubplot at 0x18792b92d68>"
      ]
     },
     "execution_count": 356,
     "metadata": {},
     "output_type": "execute_result"
    },
    {
     "data": {
      "image/png": "[encoded data removed]",
      "text/plain": [
       "<Figure size 864x576 with 1 Axes>"
      ]
     },
     "metadata": {
      "needs_background": "light"
     },
     "output_type": "display_data"
    }
   ],
   "source": [
    "pred_frame[[\"Truth\", \"Predictions\"]].plot(figsize=(12,8))"
   ]
  },
  {
   "cell_type": "code",
   "execution_count": 357,
   "metadata": {},
   "outputs": [],
   "source": [
    "# Lets import a evaluation metric - For now we go for the Mean Abslute Error\n",
    "from sklearn.metrics import mean_absolute_error"
   ]
  },
  {
   "cell_type": "code",
   "execution_count": 366,
   "metadata": {},
   "outputs": [
    {
     "name": "stdout",
     "output_type": "stream",
     "text": [
      "The Mean Absolute Error of our predictions is: 1.89 €\n",
      "The mean of the column Tip in our original dataframe is: 2.82 €\n",
      "The mean of the column Tip in our Testdata is: 3.04 €\n"
     ]
    }
   ],
   "source": [
    "mae = mean_absolute_error(pred_frame[\"Truth\"], pred_frame[\"Predictions\"])\n",
    "print(f\"The Mean Absolute Error of our predictions is: {mae:.2f} €\")\n",
    "\n",
    "df_tip_mean = df.Tip.mean()\n",
    "test_mean = y_test.mean()\n",
    "\n",
    "print(f\"The mean of the column Tip in our original dataframe is: {df_tip_mean:.2f} €\")\n",
    "print(f\"The mean of the column Tip in our Testdata is: {test_mean:.2f} €\")"
   ]
  },
  {
   "cell_type": "markdown",
   "metadata": {},
   "source": [
    "# Conclusion\n",
    "\n",
    "As I said this was a short presentation of some Data Science approaches I use. If we have a look at our results you realize that our models predictions are not that good. This is because at this point we are usually not done with our work. \n",
    "\n",
    "But anyway, this is a huge part of Data Science. You have to test different models, you have to analyse the feature importance, you have to tune the models parameters (for example within the randomforestregressor sth. like \"n_estimators\" or \"max_leafs\"), you have to cross validate your data to prevent from overfitting and so on and so far.\n",
    "\n",
    "All those steps have to be done to get the best model and its best results for the customer or our own company.\n",
    "\n",
    "**I hope this helps you guys to get a short sense about my skills. I love to use functional or object oriented Programming within my final scripts to get my code nice and clean. But for now this workbook should give you a first impression**\n",
    "\n",
    "**Hope to see you guys soon and wish you all the best**\n",
    "\n",
    "**Dennis**"
   ]
  },
  {
   "cell_type": "code",
   "execution_count": null,
   "metadata": {},
   "outputs": [],
   "source": []
  }
 ],
 "metadata": {
  "kernelspec": {
   "display_name": "Python 3",
   "language": "python",
   "name": "python3"
  },
  "language_info": {
   "codemirror_mode": {
    "name": "ipython",
    "version": 3
   },
   "file_extension": ".py",
   "mimetype": "text/x-python",
   "name": "python",
   "nbconvert_exporter": "python",
   "pygments_lexer": "ipython3",
   "version": "3.7.3"
  }
 },
 "nbformat": 4,
 "nbformat_minor": 2
}
